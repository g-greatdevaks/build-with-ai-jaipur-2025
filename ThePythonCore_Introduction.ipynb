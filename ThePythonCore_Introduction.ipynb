{
  "cells": [
    {
      "cell_type": "markdown",
      "id": "ed8fe6cb",
      "metadata": {
        "id": "ed8fe6cb"
      },
      "source": [
        "## Writing Effective Python Functions - Primer\n",
        "1. A function’s parameters are the variable names between the parentheses of the function’s `def` statement, whereas the arguments are the values between a function's call parentheses.\n",
        "2. The more parameters a function has, the more configurable and generalized its code can be. However, more parameters comes with greater complexity.\n",
        "3. Parameters with Default Arguments must always come after parameters without Default Arguments.\n",
        "4. Don't use empty mutable objects (an empty list `[]` or empty dictionary `{}` ) as the default value. Avoid using mutable values for Default Arguments.\n",
        "5. `*` (Non-keyword Arguments) and `**` (Keywork Arguments) can be used to pass variable number of arguments to the functions."
      ]
    },
    {
      "cell_type": "code",
      "execution_count": null,
      "id": "7ef362d8",
      "metadata": {
        "id": "7ef362d8"
      },
      "outputs": [],
      "source": [
        "# Case 1: Tuple Packing: Passing variable number of arguments to a function.\n",
        "\n",
        "def product(*args):\n",
        "    print(\"Inside func:product.\")\n",
        "    print(\"The type of args is: {}.\".format(type(args)))\n",
        "    result = 1\n",
        "    for num in args:\n",
        "        result *= num\n",
        "    return result\n",
        "\n",
        "print(\"Product of '1 x 2 x 3 x 4' is: {}.\\n\".format(product(1, 2, 3, 4)))\n",
        "print(\"Product of '1 x 2 x 3 x 4 x 5' is: {}.\\n\".format(product(1, 2, 3, 4, 5)))\n",
        "\n",
        "def get_combo_options(*args):\n",
        "    print(\"Inside func:getComboOptions.\")\n",
        "    print(\"The type of args is: {}.\".format(type(args)))\n",
        "    print(args)\n",
        "    for combo_item in args:\n",
        "        print(combo_item)\n",
        "\n",
        "get_combo_options([\"Bruger\", \"Fries\"], [\"Coffee\", \"Grilled Sandwich\"], [\"Cold Drink\", \"Pasta\", \"Crostini\"])"
      ]
    },
    {
      "cell_type": "code",
      "execution_count": null,
      "id": "598fb506",
      "metadata": {
        "id": "598fb506"
      },
      "outputs": [],
      "source": [
        "# Case 2: Tuple Unpacking: Passing an iterable mutable object to a function and unpacking it.\n",
        "\n",
        "fruits = [\"apple\", \"banana\", \"mango\"]\n",
        "print(fruits) # Before tuple unpacking.\n",
        "print(*fruits) # After tuple unpacking.\n",
        "print(\"\\n\")\n",
        "\n",
        "def unpack_multipliers(num1, num2):\n",
        "    print(\"Inside func:unpackMultipliers.\")\n",
        "    print(\"The first number is {} and the second number is {}.\".format(num1, num2))\n",
        "\n",
        "multipliers = [5, 10]\n",
        "unpack_multipliers(*multipliers)"
      ]
    },
    {
      "cell_type": "code",
      "execution_count": null,
      "id": "e55040ee",
      "metadata": {
        "id": "e55040ee"
      },
      "outputs": [],
      "source": [
        "# Case 3: Dictionary Packing: Passing variable number of key-value pairs to a function.\n",
        "\n",
        "def print_project_info(**kwargs):\n",
        "    print(\"Inside func:print_project_info.\")\n",
        "    print(\"The type of args is: {}.\".format(type(kwargs)))\n",
        "    print(\"The project has the following metadata.\")\n",
        "    for key in kwargs:\n",
        "        print(\"{} => {}\".format(key, kwargs[key]))\n",
        "\n",
        "project_one_info = {\"name\": \"ThePythonZen\", \"author\": \"greatdevaks\"}\n",
        "project_two_info = {\"name\": \"Golang\", \"author\": \"djokovic\"}\n",
        "print_project_info(name = \"ThePythonZen\", author = \"greatdevaks\")\n",
        "print(\"\\n\")\n",
        "print_project_info(project_one = project_one_info, project_two = project_two_info)"
      ]
    },
    {
      "cell_type": "code",
      "execution_count": null,
      "id": "dae6302d",
      "metadata": {
        "id": "dae6302d"
      },
      "outputs": [],
      "source": [
        "# Case 4: Dictionary Unpacking: Passing a dictionary to a function and expanding it.\n",
        "\n",
        "def print_combo_options(drink, food):\n",
        "    print(\"Inside func:print_combo_options.\")\n",
        "    return drink, food\n",
        "\n",
        "combo_menu = {\"drink\": \"Coffee\", \"food\": \"Grilled Sandwich\"}\n",
        "print(\"The combo options are: {}.\".format(print_combo_options(**combo_menu)))"
      ]
    },
    {
      "cell_type": "markdown",
      "id": "f8d73833",
      "metadata": {
        "id": "f8d73833"
      },
      "source": [
        "6. Functions are first-class objects in Python i.e. they are just like any other variable.\n",
        "    - A function can be passed as an argument to other functions.\n",
        "    - A function can be returned by another function.\n",
        "    - A function be assigned as a value to a variable."
      ]
    },
    {
      "cell_type": "code",
      "execution_count": null,
      "id": "c248f2ed",
      "metadata": {
        "id": "c248f2ed"
      },
      "outputs": [],
      "source": [
        "# Case 1: Passing a function as an argument to another function.\n",
        "\n",
        "def greet_morning(name):\n",
        "    print(\"Inside func:greet_morning.\")\n",
        "    print(\"Good morning {}.\\n\".format(name))\n",
        "\n",
        "def greet_afternoon(name):\n",
        "    print(\"Inside func:greet_afternoon.\")\n",
        "    print(\"Good afternoon {}.\\n\".format(name))\n",
        "\n",
        "def greet_evening(name):\n",
        "    print(\"Inside func:greet_evening.\")\n",
        "    print(\"Good evening {}.\\n\".format(name))\n",
        "\n",
        "def greeting(greet_func):\n",
        "    print(\"Inside func:greeting.\")\n",
        "    greet_func(\"Robin\")\n",
        "\n",
        "greeting(greet_morning)\n",
        "greeting(greet_afternoon)\n",
        "greeting(greet_evening)"
      ]
    },
    {
      "cell_type": "code",
      "execution_count": null,
      "id": "c7ab8de5",
      "metadata": {
        "id": "c7ab8de5"
      },
      "outputs": [],
      "source": [
        "# Case 2: Returning a function by a function.\n",
        "\n",
        "def compute_results(marks):\n",
        "    print(\"Inside func:compute_results.\")\n",
        "\n",
        "    def distinction():\n",
        "        print(\"Inside func:distinction.\")\n",
        "        print(\"Passed with Distinction.\")\n",
        "        return \"Grade A+.\"\n",
        "\n",
        "    def merit():\n",
        "        print(\"Inside func:merit.\")\n",
        "        print(\"Passed with Merit.\\n\")\n",
        "        return \"Grade A.\"\n",
        "\n",
        "    if marks > 75:\n",
        "        return distinction()\n",
        "    if 60 < marks < 75:\n",
        "        return merit()\n",
        "    else:\n",
        "        return \"Grace.\"\n",
        "\n",
        "def print_grades(**kwargs):\n",
        "    print(\"\\nInside func:print_grades.\")\n",
        "    for key in kwargs:\n",
        "        print(\"{} => {}\".format(key, kwargs[key]))\n",
        "\n",
        "result_candidate_one = compute_results(80)\n",
        "result_candidate_two = compute_results(74)\n",
        "result_candidate_three = compute_results(50)\n",
        "\n",
        "print_grades(candidate_one = result_candidate_one, candidate_two = result_candidate_two, candidate_three = result_candidate_three)"
      ]
    },
    {
      "cell_type": "code",
      "execution_count": null,
      "id": "19e80f98",
      "metadata": {
        "id": "19e80f98"
      },
      "outputs": [],
      "source": [
        "# Case 3: Assigning function as a value to a variable.\n",
        "\n",
        "def plus_ten(marks):\n",
        "    return marks + 10\n",
        "\n",
        "plus_ten_clone = plus_ten\n",
        "\n",
        "del plus_ten\n",
        "\n",
        "print(\"Marks are: {}.\".format(plus_ten_clone(10)))"
      ]
    },
    {
      "cell_type": "markdown",
      "id": "e61132f3",
      "metadata": {
        "id": "e61132f3"
      },
      "source": [
        "## Recursion\n",
        "\n",
        "- A function calling itself results in Recursion.\n",
        "- A larger problem can be divided into smaller sub-problems of same kind.\n",
        "- It is expensive and occupies lot of memory."
      ]
    },
    {
      "cell_type": "code",
      "execution_count": null,
      "id": "01443e7a",
      "metadata": {
        "id": "01443e7a"
      },
      "outputs": [],
      "source": [
        "# A recursive factorial function.\n",
        "\n",
        "def factorial(num):\n",
        "    if 0 <= num < 2:\n",
        "        return 1\n",
        "    elif num > 1:\n",
        "        return num * factorial(num - 1)\n",
        "\n",
        "print(\"Factorial of 1 is: {}.\".format(factorial(1)))\n",
        "print(\"Factorial of 2 is: {}.\".format(factorial(2)))\n",
        "print(\"Factorial of 3 is: {}.\".format(factorial(3)))"
      ]
    },
    {
      "cell_type": "markdown",
      "id": "575646d6",
      "metadata": {
        "id": "575646d6"
      },
      "source": [
        "## Decorators\n",
        "\n",
        "- A design pattern to add new functionality to an existing object by applying wrappers."
      ]
    },
    {
      "cell_type": "code",
      "execution_count": null,
      "id": "9c26353d",
      "metadata": {
        "id": "9c26353d"
      },
      "outputs": [],
      "source": [
        "# Simple implementation of Decorators.\n",
        "\n",
        "def uppercase(function):\n",
        "    def wrapper():\n",
        "        func = function()\n",
        "        make_uppercase = func.upper()\n",
        "        return make_uppercase\n",
        "    return wrapper\n",
        "\n",
        "def split_string(function):\n",
        "    def wrapper():\n",
        "        func = function()\n",
        "        splitted_string = func.split()\n",
        "        return splitted_string\n",
        "    return wrapper\n",
        "\n",
        "def print_hello():\n",
        "    return \"Hello.\"\n",
        "\n",
        "# decorate = uppercase(print_hello)\n",
        "# decorate()\n",
        "\n",
        "@split_string\n",
        "@uppercase\n",
        "def hello_world():\n",
        "    return 'Hello World.'\n",
        "\n",
        "hello_world()"
      ]
    },
    {
      "cell_type": "code",
      "execution_count": null,
      "id": "40e886e1",
      "metadata": {
        "id": "40e886e1"
      },
      "outputs": [],
      "source": [
        "# Decorators on Functions with Arguments.\n",
        "\n",
        "def decorator_with_arguments(function):\n",
        "    def wrapper_accepting_arguments(arg1, arg2):\n",
        "        print(\"My arguments are: {0}, {1}\".format(arg1,arg2))\n",
        "        function(arg1, arg2)\n",
        "    return wrapper_accepting_arguments\n",
        "\n",
        "\n",
        "@decorator_with_arguments\n",
        "def cities(city_one, city_two):\n",
        "    print(\"Cities I visited are {0} and {1}\".format(city_one, city_two))\n",
        "\n",
        "cities(\"Delhi\", \"Bangalore\")"
      ]
    },
    {
      "cell_type": "markdown",
      "id": "4d55784f",
      "metadata": {
        "id": "4d55784f"
      },
      "source": [
        "## Functional Programming\n",
        "\n",
        "- Focuses on writing functions that perform computations without modifying the global variables or any external state."
      ]
    },
    {
      "cell_type": "code",
      "execution_count": null,
      "id": "4962d35a",
      "metadata": {
        "id": "4962d35a"
      },
      "outputs": [],
      "source": [
        "# Revisiting Side-Effects.\n",
        "\n",
        "def remove_last_cat_from_list(pets):\n",
        "    if len(pets) > 0 and pets[-1] == 'cat':\n",
        "        pets.pop()\n",
        "\n",
        "my_pets = ['dog', 'cat', 'bird', 'cat']\n",
        "remove_last_cat_from_list(my_pets)\n",
        "print(my_pets)"
      ]
    },
    {
      "cell_type": "markdown",
      "id": "bbe6e0ab",
      "metadata": {
        "id": "bbe6e0ab"
      },
      "source": [
        "### Lambda Functions\n",
        "\n",
        "- Anonymous functions.\n",
        "- Nameless functions.\n",
        "- Have only one return statement.\n",
        "- Can be used when passing functions as arguments to other functions."
      ]
    },
    {
      "cell_type": "code",
      "execution_count": null,
      "id": "64322d32",
      "metadata": {
        "id": "64322d32"
      },
      "outputs": [],
      "source": [
        "# Without Lambda.\n",
        "def rectangle_perimeter(rect):\n",
        "    return (rect[0] * 2) + (rect[1] * 2)\n",
        "\n",
        "my_rectangle = [4, 10]\n",
        "print(rectangle_perimeter(my_rectangle))\n",
        "\n",
        "# With Lambda.\n",
        "rectangle_perimeter_lambda = lambda rect: (rect[0] * 2) + (rect[1] * 2)\n",
        "print(rectangle_perimeter_lambda([4, 10]))"
      ]
    },
    {
      "cell_type": "code",
      "execution_count": null,
      "id": "41c459c0",
      "metadata": {
        "id": "41c459c0"
      },
      "outputs": [],
      "source": [
        "# List Comprehensions.\n",
        "is_even_list = [lambda arg=x: arg * 10 for x in range(1, 5)]\n",
        "\n",
        "# Iterate on each lambda function and invoke the function to get the calculated value.\n",
        "for item in is_even_list:\n",
        "    print(item())"
      ]
    },
    {
      "cell_type": "code",
      "execution_count": null,
      "id": "635f583e",
      "metadata": {
        "id": "635f583e"
      },
      "outputs": [],
      "source": [
        "# Lambdas for If-Else.\n",
        "max_num = lambda num1, num2 : num1 if(num1 > num2) else num2\n",
        "\n",
        "print(max_num(1, 2))"
      ]
    }
  ],
  "metadata": {
    "kernelspec": {
      "display_name": "Python 3.11.0 ('s2': venv)",
      "language": "python",
      "name": "python3"
    },
    "language_info": {
      "codemirror_mode": {
        "name": "ipython",
        "version": 3
      },
      "file_extension": ".py",
      "mimetype": "text/x-python",
      "name": "python",
      "nbconvert_exporter": "python",
      "pygments_lexer": "ipython3",
      "version": "3.11.0"
    },
    "vscode": {
      "interpreter": {
        "hash": "6c3ed1afb83989f219c8c204a7d1a8493b2ce6fcd61e865890acc214603f4777"
      }
    },
    "colab": {
      "provenance": [],
      "toc_visible": true
    }
  },
  "nbformat": 4,
  "nbformat_minor": 5
}